{
 "cells": [
  {
   "cell_type": "code",
   "execution_count": 1,
   "metadata": {},
   "outputs": [],
   "source": [
    "import h5py\n",
    "f = h5py.File('vqa_data_prepro.hdf5')"
   ]
  },
  {
   "cell_type": "code",
   "execution_count": 2,
   "metadata": {},
   "outputs": [],
   "source": [
    "dict_img_path = {'img_path_train':{},'img_path_val':{}}"
   ]
  },
  {
   "cell_type": "code",
   "execution_count": 3,
   "metadata": {},
   "outputs": [
    {
     "name": "stdout",
     "output_type": "stream",
     "text": [
      "writing dictionary\n",
      "finished dictionary\n"
     ]
    }
   ],
   "source": [
    "print(\"writing dictionary\")\n",
    "for id,content in enumerate(f['img_path_train']):\n",
    "    dict_img_path['img_path_train'][id] = str(content)[2:][:-1]\n",
    "for id,content in enumerate(f['img_path_val']):\n",
    "    dict_img_path['img_path_val'][id] = str(content)[2:][:-1]\n",
    "f.close()\n",
    "print(\"finished dictionary\")"
   ]
  },
  {
   "cell_type": "code",
   "execution_count": 4,
   "metadata": {},
   "outputs": [
    {
     "name": "stdout",
     "output_type": "stream",
     "text": [
      "finished\n"
     ]
    }
   ],
   "source": [
    "import json\n",
    "output_json = './image_path_output.json'\n",
    "json.dump(dict_img_path , open(output_json, 'w'))\n",
    "print(\"finished\")"
   ]
  }
 ],
 "metadata": {
  "kernelspec": {
   "display_name": "Python 3",
   "language": "python",
   "name": "python3"
  },
  "language_info": {
   "codemirror_mode": {
    "name": "ipython",
    "version": 3
   },
   "file_extension": ".py",
   "mimetype": "text/x-python",
   "name": "python",
   "nbconvert_exporter": "python",
   "pygments_lexer": "ipython3",
   "version": "3.6.8"
  }
 },
 "nbformat": 4,
 "nbformat_minor": 2
}
